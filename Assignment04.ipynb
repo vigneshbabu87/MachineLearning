{
 "cells": [
  {
   "cell_type": "markdown",
   "metadata": {},
   "source": [
    "# Problem Statements"
   ]
  },
  {
   "cell_type": "markdown",
   "metadata": {},
   "source": [
    "## Task 2 :"
   ]
  },
  {
   "cell_type": "markdown",
   "metadata": {},
   "source": [
    "### 1.1 Write a Python Program(with class concepts) to find the area of the triangle using the below formula.         area = (s*(s-a)*(s-b)*(s-c)) ** 0.5                                                                                                                                            Function to take the length of the sides of triangle from user should be defined in the parent class and function to calculate the area should be defined in subclass.\n",
    "\n"
   ]
  },
  {
   "cell_type": "code",
   "execution_count": 24,
   "metadata": {},
   "outputs": [
    {
     "name": "stdout",
     "output_type": "stream",
     "text": [
      "Enter the valid triangle sides inputs\n",
      "Enter the Side of A :10\n",
      "Enter the Side of B :20\n",
      "Enter the Side of C :20\n",
      "\n",
      "Half of the triangles perimeter :\t 25.0\n",
      "\n",
      "Area of triangle : 96.82458365518542\n"
     ]
    }
   ],
   "source": [
    "# importing the mathematics calculation\n",
    "import math\n",
    "\n",
    "#Create a class to get the length of the sides\n",
    "\n",
    "class lengthofSides:\n",
    "    def __init__(self):\n",
    "        print(\"Enter the valid triangle sides inputs\")\n",
    "        self.a=0;#input(\"Enter the Side of A \")\n",
    "        \n",
    "        while(True):\n",
    "            self.a=input(\"Enter the Side of A :\")\n",
    "            if(self.a.isdigit()):\n",
    "                break;\n",
    "        while(True):\n",
    "            self.b=input(\"Enter the Side of B :\")\n",
    "            if(self.b.isdigit()):\n",
    "                break;             \n",
    "        while(True):\n",
    "            self.c=input(\"Enter the Side of C :\")\n",
    "            if(self.c.isdigit()):\n",
    "                break;               \n",
    "        \n",
    "    def triangledata(self):\n",
    "        Sidesval= (float(self.a)+float(self.b)+float(self.c))/2\n",
    "        print(Sidesval)\n",
    "        return Sidesval\n",
    "    \n",
    "#create a sub class to  Calcualte the Area of triangle\n",
    "\n",
    "class Areaoftriangle(lengthofSides):\n",
    "     def __init__(self):\n",
    "           #  print(self.a)\n",
    "           super(Areaoftriangle, self).__init__()\n",
    "    \n",
    "     def CalcArea(self): # calculate the area of triangle\n",
    "            Tp= (float(self.a)+float(self.b)+float(self.c))/2\n",
    "            print(\"\\nHalf of the triangles perimeter :\\t\",Tp)\n",
    "            sidesval=((Tp-float(self.a))*(Tp-float(self.b))*(Tp-float(self.c)))\n",
    "            sidesval1=sidesval * Tp\n",
    "           # print(sidesval1)\n",
    "            Results=math.sqrt(sidesval1)\n",
    "            \n",
    "            \n",
    "            return Results\n",
    "           # print(Sidesval)\n",
    "            #print(Sidesval)\n",
    "\n",
    "\n",
    "# calling the subclass to get the inputs \n",
    "\n",
    "AreaCalc=Areaoftriangle()\n",
    "\n",
    "# calculate the area of triangle\n",
    "\n",
    "Results=AreaCalc.CalcArea()\n",
    "\n",
    "print(\"\\nArea of triangle :\",Results)\n",
    "\n",
    "#results=Calsub.Area()\n",
    "#Calcval.__dict__\n",
    "    \n",
    "    \n",
    "    \n",
    "    \n",
    "# semi permieter\n",
    "#S=a+b+c/2"
   ]
  },
  {
   "cell_type": "markdown",
   "metadata": {},
   "source": [
    "### 1.2Write a function filter_long_words() that takes a list of words and an integer n and returns the list of words that are longer than n.\n",
    "\n"
   ]
  },
  {
   "cell_type": "code",
   "execution_count": 33,
   "metadata": {},
   "outputs": [],
   "source": [
    "def  filter_long_words(listvalues,maxlen):\n",
    "    findlength=0\n",
    "    findmaximum=maxlen\n",
    "    data=[]\n",
    "# Iterate the loop\n",
    "\n",
    "    for val in listvalues:\n",
    "        findlength=len(val)              # Get the length of the string\n",
    "        if(findlength>=findmaximum):     #  Check the maximum string\n",
    "            data.append(val)                     # Store the data\n",
    "    return data"
   ]
  },
  {
   "cell_type": "code",
   "execution_count": 36,
   "metadata": {},
   "outputs": [
    {
     "name": "stdout",
     "output_type": "stream",
     "text": [
      "List of words that longer than n 5 value\n",
      "vignesh\n",
      "vicky\n",
      "vijaybhaskar\n",
      "sukumar\n"
     ]
    }
   ],
   "source": [
    "# List of words\n",
    "\n",
    "listvalues=[\"vignesh\",\"babu\",\"vicky\",\"vijaybhaskar\",\"sukumar\",\"VBM\",\"VB\"]\n",
    "\n",
    "# input value \"N\"\n",
    "Getinputval=5\n",
    "\n",
    "# Calling the longest method funtion\n",
    "longestword=filter_long_words(listvalues,5)\n",
    "\n",
    "print(\"List of words that longer than n {} value\".format(Getinputval))\n",
    "for val in longestword:\n",
    "    print(val)\n"
   ]
  },
  {
   "cell_type": "markdown",
   "metadata": {},
   "source": [
    "### 2.1 Write a Python program using function concept that maps list of words into a list of integers representing the lengths of the corresponding words.                                                                                                                               Hint: If a list [ ab,cde,erty] is passed on to the python function output should come as [2,3,4] Here 2,3 and 4 are the lengths of the words in the list.\n",
    "\n"
   ]
  },
  {
   "cell_type": "code",
   "execution_count": 54,
   "metadata": {},
   "outputs": [],
   "source": [
    "# return the length values\n",
    "def findlength(listvalues):\n",
    "    return(len(listvalues))\n",
    "    "
   ]
  },
  {
   "cell_type": "code",
   "execution_count": 53,
   "metadata": {},
   "outputs": [
    {
     "name": "stdout",
     "output_type": "stream",
     "text": [
      "Length of the words in the list :  [2, 3, 4, 5, 6]\n"
     ]
    }
   ],
   "source": [
    "\n",
    "# Lsit of words\n",
    "\n",
    "listval=[ \"ab\",\"cde\",\"erty\",\"vbghj\",\"VBGKJJ\"] \n",
    "\n",
    "Returnlist= list(map(findlength,listval))\n",
    "#Returnlist= list(map(lambda x : len(x),listval))\n",
    "\n",
    "print(\"Length of the words in the list : \",Returnlist)\n",
    "\n",
    "\n",
    "\n"
   ]
  },
  {
   "cell_type": "markdown",
   "metadata": {},
   "source": [
    "### 2.2 Write a Python function which takes a character (i.e. a string of length 1) and returns True if it is a vowel, False otherwise.\n",
    "\n"
   ]
  },
  {
   "cell_type": "code",
   "execution_count": 72,
   "metadata": {},
   "outputs": [
    {
     "name": "stdout",
     "output_type": "stream",
     "text": [
      "Enter the single character to find a vowel :E\n",
      "This alphabet is vowel character\n"
     ]
    }
   ],
   "source": [
    "# function vowels of single character\n",
    "def FindVowels():\n",
    "    vowels = ['a', 'e', 'i', 'o', 'u',]\n",
    "    Getcharacter=\"dummy\"\n",
    "    while(True):        \n",
    "            if(len(Getcharacter)>1):\n",
    "                Getcharacter=input(\"Enter the single character to find a vowel :\");\n",
    "            else:\n",
    "                break\n",
    "                            \n",
    "    if(Getcharacter.lower() in vowels):\n",
    "        return True\n",
    "    else:\n",
    "        return False\n",
    "\n",
    "\n",
    "CheckVowel=FindVowels()\n",
    "\n",
    "if CheckVowel:\n",
    "    print(\"This alphabet is vowel character\")\n",
    "else:\n",
    "    print(\"This alphabet is not vowel character\")\n",
    "\n",
    "\n",
    "\n"
   ]
  }
 ],
 "metadata": {
  "kernelspec": {
   "display_name": "Python 3",
   "language": "python",
   "name": "python3"
  },
  "language_info": {
   "codemirror_mode": {
    "name": "ipython",
    "version": 3
   },
   "file_extension": ".py",
   "mimetype": "text/x-python",
   "name": "python",
   "nbconvert_exporter": "python",
   "pygments_lexer": "ipython3",
   "version": "3.7.4"
  }
 },
 "nbformat": 4,
 "nbformat_minor": 2
}
