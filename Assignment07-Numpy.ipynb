{
 "cells": [
  {
   "cell_type": "markdown",
   "metadata": {},
   "source": [
    "# Problem Statements"
   ]
  },
  {
   "cell_type": "markdown",
   "metadata": {},
   "source": [
    "## Task  :Write a function so that the columns of the output matrix are powers of the input vector.\n",
    "The order of the powers is determined by the increasing boolean argument. Specifically, when\n",
    "increasing is False, the i-th output column is the input vector raised element-wise to the power\n",
    "of N - i - 1.\n",
    "\n",
    "HINT: Such a matrix with a geometric progression in each row is named for Alexandre-\n",
    "Theophile Vandermonde."
   ]
  },
  {
   "cell_type": "markdown",
   "metadata": {},
   "source": [
    "### Problem Statement 2:\n",
    "Given a sequence of n values x1, x2, ..., xn and a window size k>0, the k-th moving average of\n",
    "the given sequence is defined as follows:\n",
    "The moving average sequence has n-k+1 elements as shown below.\n",
    "The moving averages with k=4 of a ten-value sequence (n=10) is shown below\n",
    "\n",
    "i 1 2 3 4 5 6 7 8 9 10\n",
    "\n",
    "Input 10 20 30 40 50 60 70 80 90 100\n",
    "\n",
    "y1 25 = (10+20+30+40)/4\n",
    "\n",
    "y2 35 = (20+30+40+50)/4\n",
    "\n",
    "y3 45 = (30+40+50+60)/4\n",
    "\n",
    "y4 55 = (40+50+60+70)/4\n",
    "\n",
    "y5 65 = (50+60+70+80)/4\n",
    "\n",
    "y6 75 = (60+70+80+90)/4\n",
    "\n",
    "y7 85 = (70+80+90+100)/4\n",
    "\n",
    "####\n",
    "Thus, the moving average sequence has n-k+1=10-4+1=7 values.\n",
    "\n"
   ]
  },
  {
   "cell_type": "markdown",
   "metadata": {},
   "source": [
    "### Question:\n",
    "Question: Write a function to find moving average in an array over a window:\n",
    "\n",
    "Test it over [3, 5, 7, 2, 8, 10, 11, 65, 72, 81, 99, 100, 150] and window of 3."
   ]
  },
  {
   "cell_type": "code",
   "execution_count": 27,
   "metadata": {},
   "outputs": [],
   "source": [
    "def Linearconvolutioncalc(FirstVector,key):\n",
    "#First Vector\n",
    "   \n",
    "    print(\"-\"*60)\n",
    "    print(\"\\t\\t LINEAR CONVOLUTION \")\n",
    "    print(\"-\"*60)\n",
    "    print(\"First vector  : \", FirstVector)\n",
    "    print(\"-\"*60)\n",
    "    #Calculation  1/key=1/3=0.33333333 new vetor will create\n",
    "    SecondVector = np.repeat(1.0,key)/key\n",
    "        \n",
    "    print(\"Second vector  :\",SecondVector)\n",
    "    print(\"-\"*60)\n",
    "    print(\"Key Value :\",key)\n",
    "    print(\"\\nLinear convolution result between v1 and v2 using 'full' mode:\")\n",
    "    print(\"-\"*80)\n",
    "    print(np.convolve(FirstVector, SecondVector))\n",
    "    \n",
    "    print(\"\\nLinear convolution  result between v1 and v2 using 'same' mode:\")\n",
    "    print(\"-\"*80)\n",
    "    print(np.convolve(FirstVector, SecondVector, mode='same'))\n",
    "\n",
    "    print(\"\\nLinear convolution  result between v1 and v2 using 'valid' mode:\")\n",
    "    print(\"-\"*80)\n",
    "    print(np.convolve(FirstVector, SecondVector, mode='valid'))\n",
    "#-- smas = np.convolve(values,SecondVector,'full')\n",
    "    \n"
   ]
  },
  {
   "cell_type": "code",
   "execution_count": 28,
   "metadata": {},
   "outputs": [
    {
     "name": "stdout",
     "output_type": "stream",
     "text": [
      "------------------------------------------------------------\n",
      "\t\t LINEAR CONVOLUTION \n",
      "------------------------------------------------------------\n",
      "First vector  :  [3, 5, 7, 2, 8, 10, 11, 65, 72, 81, 99, 100, 150]\n",
      "------------------------------------------------------------\n",
      "Second vector  : [0.33333333 0.33333333 0.33333333]\n",
      "------------------------------------------------------------\n",
      "Key Value : 3\n",
      "\n",
      "Linear convolution result between v1 and v2 using 'full' mode:\n",
      "--------------------------------------------------------------------------------\n",
      "[  1.           2.66666667   5.           4.66666667   5.66666667\n",
      "   6.66666667   9.66666667  28.66666667  49.33333333  72.66666667\n",
      "  84.          93.33333333 116.33333333  83.33333333  50.        ]\n",
      "\n",
      "Linear convolution  result between v1 and v2 using 'same' mode:\n",
      "--------------------------------------------------------------------------------\n",
      "[  2.66666667   5.           4.66666667   5.66666667   6.66666667\n",
      "   9.66666667  28.66666667  49.33333333  72.66666667  84.\n",
      "  93.33333333 116.33333333  83.33333333]\n",
      "\n",
      "Linear convolution  result between v1 and v2 using 'valid' mode:\n",
      "--------------------------------------------------------------------------------\n",
      "[  5.           4.66666667   5.66666667   6.66666667   9.66666667\n",
      "  28.66666667  49.33333333  72.66666667  84.          93.33333333\n",
      " 116.33333333]\n"
     ]
    }
   ],
   "source": [
    "import numpy as np\n",
    "dataset = [3, 5, 7, 2, 8, 10, 11, 65, 72, 81, 99, 100, 150]\n",
    "\n",
    "Linearconvolutioncalc(dataset,3)"
   ]
  },
  {
   "attachments": {},
   "cell_type": "markdown",
   "metadata": {},
   "source": [
    "\n",
    "# Calculation V1 * V2\n",
    "## 3\t5\t7\t2\t8\t10\t11\t65\t72\t81\t99\t100\t150\t\t\n",
    "\n",
    "1\t1.666666667\t2.333333333\t0.666666667\t2.666666667\t3.333333333\t3.666666667\t21.66666667\t24\t27\t33\t33.33333333\t50\t\t\n",
    "\n",
    "    1\t1.666666667\t2.333333333\t0.666666667\t2.666666667\t3.333333333\t3.666666667\t21.66666667\t24\t27\t33\t33.33333333\t50\t\n",
    "\n",
    "        1\t1.666666667\t2.333333333\t0.666666667\t2.666666667\t3.333333333\t3.666666667\t21.66666667\t24\t27\t33\t33.33333333\t50\n",
    "\t\t\t\t\t\t\t\t\t\t\t\t\t\t\n",
    "## 1 2.666666667\t5\t4.666666667\t5.666666667\t6.666666667\t9.666666667\t28.66666667\t49.33333334\t72.66666667\t84\t93.33333333\t116.3333333\t83.33333333\t50\n"
   ]
  },
  {
   "attachments": {
    "image.png": {
     "image/png": "[encoded data removed]"
    }
   },
   "cell_type": "markdown",
   "metadata": {},
   "source": [
    "![image.png](attachment:image.png)"
   ]
  },
  {
   "cell_type": "code",
   "execution_count": null,
   "metadata": {},
   "outputs": [],
   "source": []
  }
 ],
 "metadata": {
  "kernelspec": {
   "display_name": "Python 3",
   "language": "python",
   "name": "python3"
  },
  "language_info": {
   "codemirror_mode": {
    "name": "ipython",
    "version": 3
   },
   "file_extension": ".py",
   "mimetype": "text/x-python",
   "name": "python",
   "nbconvert_exporter": "python",
   "pygments_lexer": "ipython3",
   "version": "3.7.6"
  }
 },
 "nbformat": 4,
 "nbformat_minor": 2
}
