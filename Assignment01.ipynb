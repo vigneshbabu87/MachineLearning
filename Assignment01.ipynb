{
 "cells": [
  {
   "cell_type": "markdown",
   "metadata": {},
   "source": [
    "# Problem Statements"
   ]
  },
  {
   "cell_type": "markdown",
   "metadata": {},
   "source": [
    "## Task 1 :"
   ]
  },
  {
   "cell_type": "markdown",
   "metadata": {},
   "source": [
    "### 1. Write a program which will find all such numbers which are divisible by 7 but are not multiple of 5 ,between 2000 and 3200 ( both included).The numbers obtained should be printed ina comma - seperated sequence on a single line."
   ]
  },
  {
   "cell_type": "code",
   "execution_count": 1,
   "metadata": {},
   "outputs": [
    {
     "name": "stdout",
     "output_type": "stream",
     "text": [
      "Number of Values found above condition : 138 \n",
      "List of values : \n",
      " [2002, 2009, 2016, 2023, 2037, 2044, 2051, 2058, 2072, 2079, 2086, 2093, 2107, 2114, 2121, 2128, 2142, 2149, 2156, 2163, 2177, 2184, 2191, 2198, 2212, 2219, 2226, 2233, 2247, 2254, 2261, 2268, 2282, 2289, 2296, 2303, 2317, 2324, 2331, 2338, 2352, 2359, 2366, 2373, 2387, 2394, 2401, 2408, 2422, 2429, 2436, 2443, 2457, 2464, 2471, 2478, 2492, 2499, 2506, 2513, 2527, 2534, 2541, 2548, 2562, 2569, 2576, 2583, 2597, 2604, 2611, 2618, 2632, 2639, 2646, 2653, 2667, 2674, 2681, 2688, 2702, 2709, 2716, 2723, 2737, 2744, 2751, 2758, 2772, 2779, 2786, 2793, 2807, 2814, 2821, 2828, 2842, 2849, 2856, 2863, 2877, 2884, 2891, 2898, 2912, 2919, 2926, 2933, 2947, 2954, 2961, 2968, 2982, 2989, 2996, 3003, 3017, 3024, 3031, 3038, 3052, 3059, 3066, 3073, 3087, 3094, 3101, 3108, 3122, 3129, 3136, 3143, 3157, 3164, 3171, 3178, 3192, 3199]\n"
     ]
    }
   ],
   "source": [
    "#Declare the variables\n",
    "\n",
    "Results=[]\n",
    "\n",
    "#iterate the values range between 2000 to 3200\n",
    "for Values in range(2000,3200):\n",
    "# check the condition the respective value is divisble by 7 but not multiples of 5\n",
    "    if((Values%7)==0 and (Values%5)!=0):\n",
    "        Results.append(Values)\n",
    "\n",
    "# print the results\n",
    "print( 'Number of Values found above condition : %s \\nList of values : \\n %s' % (len(Results),Results))\n",
    "    \n",
    "\n",
    "    "
   ]
  },
  {
   "cell_type": "markdown",
   "metadata": {},
   "source": [
    "### 2 . Write a Python program to accept the user's first and last name and then getting them printed in the reverse order with a space between first name and last name"
   ]
  },
  {
   "cell_type": "code",
   "execution_count": 21,
   "metadata": {},
   "outputs": [
    {
     "name": "stdout",
     "output_type": "stream",
     "text": [
      "Enter the No of users : 3\n",
      "Enter the user First name : vicky\n",
      "Enter the user Last name   : babu\n",
      "Enter the user First name : brindha\n",
      "Enter the user Last name   : nagaraj\n",
      "Enter the user First name : iniyal\n",
      "Enter the user Last name   : vignesh\n",
      "\n",
      " --------------------------------------------------\n",
      "\n",
      " User 1 : vicky babu reversed the first and last name :  ubab ykciv\n",
      "\n",
      " User 2 : brindha nagaraj reversed the first and last name :  jaragan ahdnirb\n",
      "\n",
      " User 3 : iniyal vignesh reversed the first and last name :  hsengiv layini\n"
     ]
    }
   ],
   "source": [
    "# Declare the Variables\n",
    "\n",
    "Str_FirstName=\"\"\n",
    "Str_LastName=\"\"\n",
    "Str_ConcatName=\"\"\n",
    "Str_Reverse=\"\"\n",
    "ReverseOrder=[]\n",
    "OriginalData=[]\n",
    "RowValues=0\n",
    "\n",
    "# Get the number of user's count\n",
    "\n",
    "Numberofusers=input(\"Enter the No of users : \")\n",
    "count=int(Numberofusers)\n",
    "\n",
    "#Get the user's first and last name\n",
    "\n",
    "while(RowValues < count):\n",
    "\n",
    "#Get the first name and last name    \n",
    "    \n",
    "    Str_FirstName=input(\"Enter the user First name : \")\n",
    "    Str_LastName=input(\"Enter the user Last name   : \")\n",
    "\n",
    "# Concatenate the string\n",
    "\n",
    "    Str_ConcatName=Str_FirstName + \" \" +Str_LastName;\n",
    "\n",
    "# Append the values\n",
    "\n",
    "    OriginalData.append(Str_ConcatName)       \n",
    "    ReverseOrder.append(Str_ConcatName[::-1])      \n",
    "    RowValues=RowValues+1\n",
    "    \n",
    "\n",
    "#Print the results\n",
    "print(\"\\n --------------------------------------------------\")\n",
    "Val=0\n",
    "\n",
    "# Reverse the user strings\n",
    "\n",
    "while(Val<len(ReverseOrder)):\n",
    "    print(\"\\n User \"+ str(Val + 1) + \" : \" + OriginalData[Val]+ \" reversed the first and last name : \",ReverseOrder[Val])\n",
    "\n",
    "#Iterate the loop up to numbers of users \n",
    "\n",
    "    Val=Val+1\n",
    "\n"
   ]
  },
  {
   "cell_type": "markdown",
   "metadata": {},
   "source": [
    "### 3. Write a Python program to find the volume of a sphere with diameter 12 cm. Formula: V=4/3 * π * r 3"
   ]
  },
  {
   "cell_type": "code",
   "execution_count": 14,
   "metadata": {},
   "outputs": [
    {
     "name": "stdout",
     "output_type": "stream",
     "text": [
      "Volume of sphere : 7234.5599999999995\n"
     ]
    }
   ],
   "source": [
    "#variable declaration\n",
    "\n",
    "diameter=12\n",
    "\n",
    "# By using this formula to calculate the volume  v= 4/3*3.14* r*r*r\n",
    "\n",
    "Volume= (4/3)*3.14*(diameter**3)\n",
    "\n",
    "# Print the results\n",
    "print(\"Volume of sphere :\", Volume)\n"
   ]
  },
  {
   "cell_type": "markdown",
   "metadata": {},
   "source": [
    "## 4. Write a program which accepts a sequence of comma-separated numbers from console and generate a list."
   ]
  },
  {
   "cell_type": "code",
   "execution_count": 16,
   "metadata": {},
   "outputs": [
    {
     "name": "stdout",
     "output_type": "stream",
     "text": [
      "Enter the numbers with comma seperated1,2,3,4,5\n",
      "\n",
      "Display the values \n",
      "  1,2,3,4,5\n"
     ]
    }
   ],
   "source": [
    "#Get the values for comma seperated numbers and stored in a list\n",
    "list=input(\"Enter the numbers with comma seperated\")\n",
    "\n",
    "#print the results as list\n",
    "print(\"\\nDisplay the values \\n \",list)\n"
   ]
  },
  {
   "cell_type": "markdown",
   "metadata": {},
   "source": [
    "## 5.Create the below pattern using nested for loop in Python."
   ]
  },
  {
   "cell_type": "code",
   "execution_count": 17,
   "metadata": {},
   "outputs": [
    {
     "name": "stdout",
     "output_type": "stream",
     "text": [
      "-------------------------\n",
      "\t Asterisk \t\n",
      "-------------------------\n",
      "\t *\n",
      "\t * *\n",
      "\t * * *\n",
      "\t * * * *\n",
      "\t * * * * *\n",
      "\t * * * *\n",
      "\t * * *\n",
      "\t * *\n",
      "\t *\n",
      "\t\n",
      "\t\n"
     ]
    }
   ],
   "source": [
    "# Display the heading\n",
    "print(\"-------------------------\")\n",
    "print(\"\\t Asterisk \\t\")\n",
    "print(\"-------------------------\")\n",
    "\n",
    "# Declare the variables\n",
    "Val=0\n",
    "CheckForwardCompleted=True\n",
    "\n",
    "\n",
    "# Iterate the while loop to perform the asteriks\n",
    "while(Val<=5):\n",
    "\n",
    "#Clear the values on each time           \n",
    "            Forward_Asterisk = 0\n",
    "            Print_Asterisk=\"\" \n",
    "            Backward_Asterisk=5\n",
    "\n",
    "# Create a nested loop until the Forward asterisk condition is statisfied\n",
    "     \n",
    "            while(Forward_Asterisk <= Val and CheckForwardCompleted==True):\n",
    "\n",
    "# Concatenate the asterik strings and increment values\n",
    "                Print_Asterisk = Print_Asterisk + \" *\"\n",
    "                Forward_Asterisk=Forward_Asterisk + 1\n",
    "\n",
    "# Incremental the value\n",
    "            Val=Val+1\n",
    "\n",
    "# Check the condition forward asterisk is completed\n",
    "\n",
    "            if(CheckForwardCompleted and Val >=5):\n",
    "                CheckForwardCompleted=False\n",
    "                Val=0\n",
    "\n",
    "# Create a nested loop until the backward asterisk condition is statisfied\n",
    "            \n",
    "            while(Backward_Asterisk > Val and CheckForwardCompleted==False and Val>0):\n",
    "                Print_Asterisk = Print_Asterisk + \" *\"\n",
    "                Backward_Asterisk=Backward_Asterisk - 1\n",
    "            \n",
    "# After execute the Nested while loop to Print the output for asteriks        \n",
    "            print(\"\\t\"+Print_Asterisk)\n",
    "\n",
    "\n",
    "        \n"
   ]
  },
  {
   "cell_type": "markdown",
   "metadata": {},
   "source": [
    "## 6. Write a Python program to reverse a word after accepting the input from the user"
   ]
  },
  {
   "cell_type": "code",
   "execution_count": 22,
   "metadata": {},
   "outputs": [
    {
     "name": "stdout",
     "output_type": "stream",
     "text": [
      "Input word   :\tvbfsgvds\n",
      "\n",
      " Output word :\t sdvgsfbv\n"
     ]
    }
   ],
   "source": [
    "\n",
    "# Declare the variables\n",
    "InputString=\"\"\n",
    "\n",
    "# Get the input values\n",
    "InputString=input(\"Enter the Input string   :\\t\")\n",
    "\n",
    "# Reverse the string \n",
    "print(\"\\nReverse the Input string :\\t\",InputString[::-1])\n",
    "\n",
    "            \n",
    "\n",
    "        "
   ]
  },
  {
   "cell_type": "markdown",
   "metadata": {},
   "source": [
    "## 7.Write a Python Program to print the given string in the format specified in the sample output.\n",
    "WE, THE PEOPLE OF INDIA, having solemnly resolved to constitute India into a\n",
    "SOVEREIGN, SOCIALIST, SECULAR, DEMOCRATIC REPUBLIC and to secure to all\n",
    "its citizens\n",
    "\n"
   ]
  },
  {
   "cell_type": "markdown",
   "metadata": {},
   "source": [
    "Sample Output:\n",
    "WE, THE PEOPLE OF INDIA,\n",
    "      having solemnly resolved to constitute India into a SOVEREIGN, !\n",
    "             SOCIALIST, SECULAR, DEMOCRATIC REPUBLIC\n",
    "              and to secure to all its citizens"
   ]
  },
  {
   "cell_type": "code",
   "execution_count": 21,
   "metadata": {},
   "outputs": [
    {
     "name": "stdout",
     "output_type": "stream",
     "text": [
      "----------------\n",
      "  Results\n",
      "----------------\n",
      "WE, THE PEOPLE OF INDIA,\n",
      "      having solemnly resolved to constitute India into a SOVEREIGN, !\n",
      "\t     SOCIALIST, SECULAR, DEMOCRATIC REPUBLIC\n",
      "\t      and to secure to all its citizens\n"
     ]
    }
   ],
   "source": [
    "# print the give string\n",
    "print(\"----------------\")\n",
    "print(\"  Results\")\n",
    "print(\"----------------\")\n",
    "\n",
    "print(\"WE, THE PEOPLE OF INDIA,\")\n",
    "print(\"      having solemnly resolved to constitute India into a SOVEREIGN, !\")\n",
    "print(\"\\t     SOCIALIST, SECULAR, DEMOCRATIC REPUBLIC\")\n",
    "print(\"\\t      and to secure to all its citizens\")\n"
   ]
  },
  {
   "cell_type": "code",
   "execution_count": null,
   "metadata": {},
   "outputs": [],
   "source": []
  }
 ],
 "metadata": {
  "kernelspec": {
   "display_name": "Python 3",
   "language": "python",
   "name": "python3"
  },
  "language_info": {
   "codemirror_mode": {
    "name": "ipython",
    "version": 3
   },
   "file_extension": ".py",
   "mimetype": "text/x-python",
   "name": "python",
   "nbconvert_exporter": "python",
   "pygments_lexer": "ipython3",
   "version": "3.7.4"
  }
 },
 "nbformat": 4,
 "nbformat_minor": 2
}
