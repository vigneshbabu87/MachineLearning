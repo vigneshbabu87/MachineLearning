{
 "cells": [
  {
   "cell_type": "markdown",
   "metadata": {},
   "source": [
    "# Problem Statements"
   ]
  },
  {
   "cell_type": "markdown",
   "metadata": {},
   "source": [
    "## Task 1 :"
   ]
  },
  {
   "cell_type": "markdown",
   "metadata": {},
   "source": [
    "### 1.1  Write a Python Program to implement your own myreduce() function which works exactly like Python's built-in function reduce()."
   ]
  },
  {
   "cell_type": "code",
   "execution_count": 27,
   "metadata": {},
   "outputs": [],
   "source": [
    "# Create own method for reduce\n",
    "\n",
    "def ownreduceMethod(StringValues):\n",
    "    Results=\"\"\n",
    "    if(type(StringValues)==str):\n",
    "        ConcatStr=''\n",
    "        for valu in StringValues:\n",
    "            Results=Results + valu\n",
    "    \n",
    "    elif(type(StringValues==int)):    \n",
    "        Value=0\n",
    "        for val in StringValues:\n",
    "            Value=Value + val\n",
    "        \n",
    "        Results=str(Value)\n",
    "            \n",
    "        \n",
    "    return Results      \n"
   ]
  },
  {
   "cell_type": "code",
   "execution_count": 29,
   "metadata": {},
   "outputs": [
    {
     "name": "stdout",
     "output_type": "stream",
     "text": [
      "user defined reduce method Results : 20\n",
      "Built in reduce method Results     : 20\n"
     ]
    }
   ],
   "source": [
    "# Pass the list values\n",
    "#Samplelistvalues=['vignesh','babu','m','vijay']\n",
    "Samplelistvalues=[3,2,10,5]\n",
    "\n",
    "Results=ownreduceMethod(Samplelistvalues)\n",
    "print(\"user defined reduce method Results :\",Results)\n",
    "\n",
    "#in built functions\n",
    "from functools import reduce\n",
    "\n",
    "Resultinbuilt=reduce(lambda a,b: a+b,Samplelistvalues)\n",
    "\n",
    "print(\"Built in reduce method Results     :\",Resultinbuilt)"
   ]
  },
  {
   "cell_type": "markdown",
   "metadata": {},
   "source": [
    "### 1.2  Write a Python program to implement your own myfilter() function which works exactly like Python's built-in function filter()."
   ]
  },
  {
   "cell_type": "code",
   "execution_count": 8,
   "metadata": {},
   "outputs": [],
   "source": [
    "# Create a own filter method\n",
    "# Pass the parameters the following parameters\n",
    "    #function type  \"F\" - consider as function,\"other string\" consider as non function\n",
    "    #funtionname   to pass the method name\n",
    "    #list,tuples to pass this method\n",
    "\n",
    "def OwnFilterMethod(param_type,param_functionname,param_val):\n",
    "    Methodreturnedval=[]\n",
    "\n",
    "#Check the condition\n",
    "\n",
    "    if(param_type.upper() ==\"F\"):\n",
    "        for lstval in param_val:\n",
    "            if(param_functionname(lstval)):\n",
    "                Methodreturnedval.append(lstval)\n",
    "    else:\n",
    "         for lstval in param_val:\n",
    "#Check the condition\n",
    "                if(lstval==1 or lstval==\"True\"):\n",
    "                    Methodreturnedval.append(lstval)\n",
    "    return Methodreturnedval   \n"
   ]
  },
  {
   "cell_type": "code",
   "execution_count": 9,
   "metadata": {},
   "outputs": [],
   "source": [
    "# function that filters vowels\n",
    "def filterVowels(alphabet):\n",
    "    vowels = ['a', 'e', 'i', 'o', 'u']\n",
    "\n",
    "    if(alphabet in vowels):\n",
    "        return True\n",
    "    else:\n",
    "        return False\n",
    "\n",
    "# function that check the even number\n",
    "def even_check(num):\n",
    "    if num%2 ==0:\n",
    "        return True"
   ]
  },
  {
   "cell_type": "code",
   "execution_count": 13,
   "metadata": {},
   "outputs": [
    {
     "name": "stdout",
     "output_type": "stream",
     "text": [
      "Check Aplhabetes values in the list  : ['a', 'e', 'i', 'o']\n",
      "Check the Even numbers in tuples     : [2, 4, 6, 8]\n",
      "pass the non method function         : [1, True]\n"
     ]
    }
   ],
   "source": [
    "#Calling the above method\n",
    "checkalphabets = ['a', 'b', 'd', 'e', 'i', 'j', 'o']\n",
    "\n",
    "#Calling the OWnfilter method\n",
    "Results=OwnFilterMethod('F',filterVowels,checkalphabets)\n",
    "print(\"Check Aplhabetes values in the list  :\",Results)\n",
    "\n",
    "\n",
    "# Check the tuples list\n",
    "Checknumberstup=(1,2,3,4,5,6,7,8,True)\n",
    "\n",
    "#Calling the OWnfilter method\n",
    "#check the even number method\n",
    "Results=OwnFilterMethod('F',even_check,Checknumberstup)\n",
    "print(\"Check the Even numbers in tuples     :\",Results)\n",
    "\n",
    "\n",
    "#Check non function method\n",
    "lstvalues =[1, 'a', 0, False, True, '0']\n",
    "#Calling the OWnfilter method\n",
    "Results=OwnFilterMethod('N',\"\",lstvalues)\n",
    "print(\"pass the non method function         :\",Results)\n"
   ]
  },
  {
   "cell_type": "markdown",
   "metadata": {},
   "source": [
    "### 2  Implement List comprehensions to produce the following lists. Write List comprehensions to produce the following Lists \n",
    "['x', 'xx', 'xxx', 'xxxx', 'y', 'yy', 'yyy', 'yyyy', 'z', 'zz', 'zzz', 'zzzz'] \n",
    "\n"
   ]
  },
  {
   "cell_type": "markdown",
   "metadata": {},
   "source": [
    "['x', 'y', 'z', 'xx', 'yy', 'zz', 'xx', 'yy', 'zz', 'xxxx', 'yyyy', 'zzzz']"
   ]
  },
  {
   "cell_type": "markdown",
   "metadata": {},
   "source": [
    "[[2], [3], [4], [3], [4], [5], [4], [5], [6]]"
   ]
  },
  {
   "cell_type": "markdown",
   "metadata": {},
   "source": [
    "[[2, 3, 4, 5], [3, 4, 5, 6], [4, 5, 6, 7], [5, 6, 7, 8]]"
   ]
  },
  {
   "cell_type": "markdown",
   "metadata": {},
   "source": [
    "[(1, 1), (2, 1), (3, 1), (1, 2), (2, 2), (3, 2), (1, 3), (2, 3), (3, 3)]"
   ]
  },
  {
   "cell_type": "code",
   "execution_count": 48,
   "metadata": {},
   "outputs": [
    {
     "name": "stdout",
     "output_type": "stream",
     "text": [
      " Output Results \n",
      "\n",
      "\t ['x', 'y', 'z', 'xx', 'yy', 'zz', 'xxx', 'yyy', 'zzz', 'xxxx', 'yyyy', 'zzzz']\n",
      " \n",
      " Sorting order Output Results \n",
      "\n",
      "\t ['x', 'xx', 'xxx', 'xxxx', 'y', 'yy', 'yyy', 'yyyy', 'z', 'zz', 'zzz', 'zzzz']\n",
      "\n",
      " Numbers Results \n",
      "\n",
      "\t [[2], [3], [4], [3], [4], [5], [4], [5], [6]]\n",
      "\n",
      "\n",
      "\t [[2, 3, 4, 5], [3, 4, 5, 6], [4, 5, 6, 7], [5, 6, 7, 8]]\n",
      "\n",
      "\n",
      "\t [(1, 1), (2, 1), (3, 1), (1, 2), (2, 2), (3, 2), (1, 3), (2, 3), (3, 3)]\n"
     ]
    }
   ],
   "source": [
    "inputdata=['x','y','z']\n",
    "\n",
    "#Concantnate the list\n",
    "Results=inputdata +[(x * 2) for x in inputdata] + [(x * 3) for x in inputdata] +[(x * 4) for x in inputdata] \n",
    "\n",
    "print(\" Output Results \\n\\n\\t\",Results)\n",
    "\n",
    "#sorting order\n",
    "Sortinglist=Results\n",
    "Sortinglist.sort()\n",
    "print(\" \\n Sorting order Output Results \\n\\n\\t\",Sortinglist)\n",
    "\n",
    "\n",
    "#display numbers\n",
    "numbersdata =[[x] for x in range(2,5)] + [[x] for x in range(3,6)]+[[x] for x in range(4,7)]\n",
    "\n",
    "print(\"\\n Numbers Results \\n\\n\\t\",numbersdata)\n",
    "\n",
    "numbersdata =[[x for x in range(2,6)] , [x for x in range(3,7)],[x for x in range(4,8)],[x for x in range(5,9)]]\n",
    "\n",
    "print(\"\\n\\n\\t\",numbersdata)\n",
    "\n",
    "numbersdata =[(x,1) for x in range(1,4)] +[(x,2) for x in range(1,4)]+[(x,3) for x in range(1,4)]\n",
    "\n",
    "print(\"\\n\\n\\t\",numbersdata)"
   ]
  }
 ],
 "metadata": {
  "kernelspec": {
   "display_name": "Python 3",
   "language": "python",
   "name": "python3"
  },
  "language_info": {
   "codemirror_mode": {
    "name": "ipython",
    "version": 3
   },
   "file_extension": ".py",
   "mimetype": "text/x-python",
   "name": "python",
   "nbconvert_exporter": "python",
   "pygments_lexer": "ipython3",
   "version": "3.7.4"
  }
 },
 "nbformat": 4,
 "nbformat_minor": 2
}
