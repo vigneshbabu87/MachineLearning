{
 "cells": [
  {
   "cell_type": "markdown",
   "metadata": {},
   "source": [
    "# Problem Statements"
   ]
  },
  {
   "cell_type": "markdown",
   "metadata": {},
   "source": [
    "## Task  :"
   ]
  },
  {
   "cell_type": "markdown",
   "metadata": {},
   "source": [
    "### 1.Write a function to compute 5/0 and use try/except to catch the exceptions..\n",
    "\n"
   ]
  },
  {
   "cell_type": "code",
   "execution_count": 48,
   "metadata": {},
   "outputs": [],
   "source": [
    "def CatchMatherror(Value):  # PAssing the parameters\n",
    "    try:\n",
    "        val=Value\n",
    "        if(type(val)!= str):       \n",
    "            val=val/0      \n",
    "        else:\n",
    "            print(\"Please pass the valid input\")\n",
    "    except ZeroDivisionError as ex:     # Capture the divide by zero error and exception details\n",
    "        print(\"You can't divide by zero{}\\n\\nException error : {}\".format(val,ex))\n",
    "    finally:\n",
    "        print(\"\\nExecution is completed \")\n",
    "        \n",
    "        "
   ]
  },
  {
   "cell_type": "code",
   "execution_count": 49,
   "metadata": {},
   "outputs": [
    {
     "name": "stdout",
     "output_type": "stream",
     "text": [
      "You can't divide by zero5\n",
      "\n",
      "Exception error : division by zero\n",
      "\n",
      "Execution is completed \n"
     ]
    }
   ],
   "source": [
    "\n",
    "Value=5\n",
    "#pass the input valu to the method\n",
    "CatchMatherror(Value)"
   ]
  },
  {
   "cell_type": "markdown",
   "metadata": {},
   "source": [
    "### 2. Implement a Python program to generate all sentences where subject is in\n",
    "[\"Americans\", \"Indians\"] and verb is in [\"Play\", \"watch\"] and the object is in\n",
    "[\"Baseball\",\"cricket\"].\n",
    "Hint: Subject,Verb and Object should be declared in the program as shown below.\n",
    "subjects=[\"Americans \",\"Indians\"]\n",
    "verbs=[\"play\",\"watch\"]\n",
    "objects=[\"Baseball\",\"Cricket\"].\n",
    "\n"
   ]
  },
  {
   "cell_type": "code",
   "execution_count": 66,
   "metadata": {},
   "outputs": [],
   "source": [
    "def Sentences(Subject,Verbs,Objects):\n",
    "    try:\n",
    "        Sub=Subject\n",
    "        Vb=verbs\n",
    "        Obj=Objects\n",
    "        \n",
    "        # Iterate the loops for subject,verbs and Objects\n",
    "        for Su in Subject:\n",
    "            for ver in Vb:\n",
    "                for Ob in Obj:\n",
    "                    print(\"{} {} {}.\".format(Su,ver,Ob))\n",
    "    except Exception as ex:\n",
    "        print(\"Exception\",ex)\n",
    "      \n",
    "                    "
   ]
  },
  {
   "cell_type": "code",
   "execution_count": 67,
   "metadata": {},
   "outputs": [
    {
     "name": "stdout",
     "output_type": "stream",
     "text": [
      "Americans  play Baseball.\n",
      "Americans  play Cricket.\n",
      "Americans  watch Baseball.\n",
      "Americans  watch Cricket.\n",
      "Indians play Baseball.\n",
      "Indians play Cricket.\n",
      "Indians watch Baseball.\n",
      "Indians watch Cricket.\n"
     ]
    }
   ],
   "source": [
    "subjects=[\"Americans \",\"Indians\"]\n",
    "verbs=[\"play\",\"watch\"]\n",
    "objects=[\"Baseball\",\"Cricket\"]\n",
    "\n",
    "# pass the parameters for subject,verbs,objects\n",
    "Sentences(subjects,verbs,objects)\n"
   ]
  }
 ],
 "metadata": {
  "kernelspec": {
   "display_name": "Python 3",
   "language": "python",
   "name": "python3"
  },
  "language_info": {
   "codemirror_mode": {
    "name": "ipython",
    "version": 3
   },
   "file_extension": ".py",
   "mimetype": "text/x-python",
   "name": "python",
   "nbconvert_exporter": "python",
   "pygments_lexer": "ipython3",
   "version": "3.7.6"
  }
 },
 "nbformat": 4,
 "nbformat_minor": 2
}
